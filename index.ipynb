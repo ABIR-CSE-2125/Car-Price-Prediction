{
 "cells": [
  {
   "cell_type": "code",
   "execution_count": null,
   "metadata": {},
   "outputs": [],
   "source": [
    "!pip list"
   ]
  },
  {
   "cell_type": "code",
   "execution_count": null,
   "metadata": {},
   "outputs": [],
   "source": [
    "%pip install pandas numpy matplotlib seaborn scikit-learn xgboost\n"
   ]
  },
  {
   "cell_type": "code",
   "execution_count": 5,
   "metadata": {},
   "outputs": [],
   "source": [
    "import pandas as pd\n",
    "import numpy as np\n",
    "import seaborn as sns\n",
    "import matplotlib.pyplot as plt\n",
    "%matplotlib inline"
   ]
  },
  {
   "cell_type": "code",
   "execution_count": 18,
   "metadata": {},
   "outputs": [],
   "source": [
    "df = pd.read_csv(\"car_data.csv\")"
   ]
  },
  {
   "cell_type": "code",
   "execution_count": 4,
   "metadata": {},
   "outputs": [
    {
     "name": "stdout",
     "output_type": "stream",
     "text": [
      "(892, 6)\n"
     ]
    },
    {
     "data": {
      "text/html": [
       "<div>\n",
       "<style scoped>\n",
       "    .dataframe tbody tr th:only-of-type {\n",
       "        vertical-align: middle;\n",
       "    }\n",
       "\n",
       "    .dataframe tbody tr th {\n",
       "        vertical-align: top;\n",
       "    }\n",
       "\n",
       "    .dataframe thead th {\n",
       "        text-align: right;\n",
       "    }\n",
       "</style>\n",
       "<table border=\"1\" class=\"dataframe\">\n",
       "  <thead>\n",
       "    <tr style=\"text-align: right;\">\n",
       "      <th></th>\n",
       "      <th>name</th>\n",
       "      <th>company</th>\n",
       "      <th>year</th>\n",
       "      <th>Price</th>\n",
       "      <th>kms_driven</th>\n",
       "      <th>fuel_type</th>\n",
       "    </tr>\n",
       "  </thead>\n",
       "  <tbody>\n",
       "    <tr>\n",
       "      <th>0</th>\n",
       "      <td>Hyundai Santro Xing XO eRLX Euro III</td>\n",
       "      <td>Hyundai</td>\n",
       "      <td>2007</td>\n",
       "      <td>80,000</td>\n",
       "      <td>45,000 kms</td>\n",
       "      <td>Petrol</td>\n",
       "    </tr>\n",
       "    <tr>\n",
       "      <th>1</th>\n",
       "      <td>Mahindra Jeep CL550 MDI</td>\n",
       "      <td>Mahindra</td>\n",
       "      <td>2006</td>\n",
       "      <td>4,25,000</td>\n",
       "      <td>40 kms</td>\n",
       "      <td>Diesel</td>\n",
       "    </tr>\n",
       "    <tr>\n",
       "      <th>2</th>\n",
       "      <td>Maruti Suzuki Alto 800 Vxi</td>\n",
       "      <td>Maruti</td>\n",
       "      <td>2018</td>\n",
       "      <td>Ask For Price</td>\n",
       "      <td>22,000 kms</td>\n",
       "      <td>Petrol</td>\n",
       "    </tr>\n",
       "  </tbody>\n",
       "</table>\n",
       "</div>"
      ],
      "text/plain": [
       "                                   name   company  year          Price  \\\n",
       "0  Hyundai Santro Xing XO eRLX Euro III   Hyundai  2007         80,000   \n",
       "1               Mahindra Jeep CL550 MDI  Mahindra  2006       4,25,000   \n",
       "2            Maruti Suzuki Alto 800 Vxi    Maruti  2018  Ask For Price   \n",
       "\n",
       "   kms_driven fuel_type  \n",
       "0  45,000 kms    Petrol  \n",
       "1      40 kms    Diesel  \n",
       "2  22,000 kms    Petrol  "
      ]
     },
     "execution_count": 4,
     "metadata": {},
     "output_type": "execute_result"
    }
   ],
   "source": [
    "print(df.shape)\n",
    "df.head(3)"
   ]
  },
  {
   "cell_type": "code",
   "execution_count": 5,
   "metadata": {},
   "outputs": [
    {
     "name": "stdout",
     "output_type": "stream",
     "text": [
      "<class 'pandas.core.frame.DataFrame'>\n",
      "RangeIndex: 892 entries, 0 to 891\n",
      "Data columns (total 6 columns):\n",
      " #   Column      Non-Null Count  Dtype \n",
      "---  ------      --------------  ----- \n",
      " 0   name        892 non-null    object\n",
      " 1   company     892 non-null    object\n",
      " 2   year        892 non-null    object\n",
      " 3   Price       892 non-null    object\n",
      " 4   kms_driven  840 non-null    object\n",
      " 5   fuel_type   837 non-null    object\n",
      "dtypes: object(6)\n",
      "memory usage: 41.9+ KB\n"
     ]
    }
   ],
   "source": [
    "df.info()"
   ]
  },
  {
   "cell_type": "markdown",
   "metadata": {},
   "source": [
    "#### null values are present in \n",
    "#### kms_driven and fuel_type"
   ]
  },
  {
   "cell_type": "markdown",
   "metadata": {},
   "source": [
    "## Feature Engineering"
   ]
  },
  {
   "cell_type": "code",
   "execution_count": 6,
   "metadata": {},
   "outputs": [
    {
     "data": {
      "text/html": [
       "<div>\n",
       "<style scoped>\n",
       "    .dataframe tbody tr th:only-of-type {\n",
       "        vertical-align: middle;\n",
       "    }\n",
       "\n",
       "    .dataframe tbody tr th {\n",
       "        vertical-align: top;\n",
       "    }\n",
       "\n",
       "    .dataframe thead th {\n",
       "        text-align: right;\n",
       "    }\n",
       "</style>\n",
       "<table border=\"1\" class=\"dataframe\">\n",
       "  <thead>\n",
       "    <tr style=\"text-align: right;\">\n",
       "      <th></th>\n",
       "      <th>name</th>\n",
       "      <th>company</th>\n",
       "      <th>year</th>\n",
       "      <th>Price</th>\n",
       "      <th>kms_driven</th>\n",
       "      <th>fuel_type</th>\n",
       "    </tr>\n",
       "  </thead>\n",
       "  <tbody>\n",
       "    <tr>\n",
       "      <th>count</th>\n",
       "      <td>892</td>\n",
       "      <td>892</td>\n",
       "      <td>892</td>\n",
       "      <td>892</td>\n",
       "      <td>840</td>\n",
       "      <td>837</td>\n",
       "    </tr>\n",
       "    <tr>\n",
       "      <th>unique</th>\n",
       "      <td>525</td>\n",
       "      <td>48</td>\n",
       "      <td>61</td>\n",
       "      <td>274</td>\n",
       "      <td>258</td>\n",
       "      <td>3</td>\n",
       "    </tr>\n",
       "    <tr>\n",
       "      <th>top</th>\n",
       "      <td>Honda City</td>\n",
       "      <td>Maruti</td>\n",
       "      <td>2015</td>\n",
       "      <td>Ask For Price</td>\n",
       "      <td>45,000 kms</td>\n",
       "      <td>Petrol</td>\n",
       "    </tr>\n",
       "    <tr>\n",
       "      <th>freq</th>\n",
       "      <td>13</td>\n",
       "      <td>235</td>\n",
       "      <td>117</td>\n",
       "      <td>35</td>\n",
       "      <td>30</td>\n",
       "      <td>440</td>\n",
       "    </tr>\n",
       "  </tbody>\n",
       "</table>\n",
       "</div>"
      ],
      "text/plain": [
       "              name company  year          Price  kms_driven fuel_type\n",
       "count          892     892   892            892         840       837\n",
       "unique         525      48    61            274         258         3\n",
       "top     Honda City  Maruti  2015  Ask For Price  45,000 kms    Petrol\n",
       "freq            13     235   117             35          30       440"
      ]
     },
     "execution_count": 6,
     "metadata": {},
     "output_type": "execute_result"
    }
   ],
   "source": [
    "df.describe()"
   ]
  },
  {
   "cell_type": "code",
   "execution_count": null,
   "metadata": {},
   "outputs": [],
   "source": [
    "df['name'].unique()"
   ]
  },
  {
   "cell_type": "markdown",
   "metadata": {},
   "source": [
    "##### Name column is too much big. we only keep the first three words"
   ]
  },
  {
   "cell_type": "code",
   "execution_count": 8,
   "metadata": {},
   "outputs": [
    {
     "data": {
      "text/plain": [
       "array(['Hyundai', 'Mahindra', 'Maruti', 'Ford', 'Skoda', 'Audi', 'Toyota',\n",
       "       'Renault', 'Honda', 'Datsun', 'Mitsubishi', 'Tata', 'Volkswagen',\n",
       "       'I', 'Chevrolet', 'Mini', 'BMW', 'Nissan', 'Hindustan', 'Fiat',\n",
       "       'Commercial', 'MARUTI', 'Force', 'Mercedes', 'Land', 'Yamaha',\n",
       "       'selling', 'URJENT', 'Swift', 'Used', 'Jaguar', 'Jeep', 'tata',\n",
       "       'Sale', 'very', 'Volvo', 'i', '2012', 'Well', 'all', '7', '9',\n",
       "       'scratch', 'urgent', 'sell', 'TATA', 'Any', 'Tara'], dtype=object)"
      ]
     },
     "execution_count": 8,
     "metadata": {},
     "output_type": "execute_result"
    }
   ],
   "source": [
    "df['company'].unique()"
   ]
  },
  {
   "cell_type": "code",
   "execution_count": null,
   "metadata": {},
   "outputs": [],
   "source": [
    "df[df['company'] == 'Force']"
   ]
  },
  {
   "cell_type": "markdown",
   "metadata": {},
   "source": [
    "##### All the peculier company name has kms_driven as null"
   ]
  },
  {
   "cell_type": "code",
   "execution_count": null,
   "metadata": {},
   "outputs": [],
   "source": [
    "df['Price'].unique()"
   ]
  },
  {
   "cell_type": "code",
   "execution_count": 10,
   "metadata": {},
   "outputs": [
    {
     "data": {
      "text/html": [
       "<div>\n",
       "<style scoped>\n",
       "    .dataframe tbody tr th:only-of-type {\n",
       "        vertical-align: middle;\n",
       "    }\n",
       "\n",
       "    .dataframe tbody tr th {\n",
       "        vertical-align: top;\n",
       "    }\n",
       "\n",
       "    .dataframe thead th {\n",
       "        text-align: right;\n",
       "    }\n",
       "</style>\n",
       "<table border=\"1\" class=\"dataframe\">\n",
       "  <thead>\n",
       "    <tr style=\"text-align: right;\">\n",
       "      <th></th>\n",
       "      <th>name</th>\n",
       "      <th>company</th>\n",
       "      <th>year</th>\n",
       "      <th>Price</th>\n",
       "      <th>kms_driven</th>\n",
       "      <th>fuel_type</th>\n",
       "    </tr>\n",
       "  </thead>\n",
       "  <tbody>\n",
       "    <tr>\n",
       "      <th>2</th>\n",
       "      <td>Maruti Suzuki Alto 800 Vxi</td>\n",
       "      <td>Maruti</td>\n",
       "      <td>2018</td>\n",
       "      <td>Ask For Price</td>\n",
       "      <td>22,000 kms</td>\n",
       "      <td>Petrol</td>\n",
       "    </tr>\n",
       "    <tr>\n",
       "      <th>5</th>\n",
       "      <td>Ford EcoSport Titanium 1.5L TDCi</td>\n",
       "      <td>Ford</td>\n",
       "      <td>2015</td>\n",
       "      <td>Ask For Price</td>\n",
       "      <td>59,000 kms</td>\n",
       "      <td>Diesel</td>\n",
       "    </tr>\n",
       "    <tr>\n",
       "      <th>69</th>\n",
       "      <td>I want to sell my car Tata Zest</td>\n",
       "      <td>I</td>\n",
       "      <td>2017</td>\n",
       "      <td>Ask For Price</td>\n",
       "      <td>NaN</td>\n",
       "      <td>NaN</td>\n",
       "    </tr>\n",
       "    <tr>\n",
       "      <th>85</th>\n",
       "      <td>I want to sell my car Tata Zest</td>\n",
       "      <td>I</td>\n",
       "      <td>2017</td>\n",
       "      <td>Ask For Price</td>\n",
       "      <td>NaN</td>\n",
       "      <td>NaN</td>\n",
       "    </tr>\n",
       "    <tr>\n",
       "      <th>138</th>\n",
       "      <td>Maruti Suzuki Alto 800 Lxi</td>\n",
       "      <td>Maruti</td>\n",
       "      <td>2018</td>\n",
       "      <td>Ask For Price</td>\n",
       "      <td>28,028 kms</td>\n",
       "      <td>Petrol</td>\n",
       "    </tr>\n",
       "    <tr>\n",
       "      <th>185</th>\n",
       "      <td>Commercial , DZire LDI, 2016, for sale</td>\n",
       "      <td>Commercial</td>\n",
       "      <td>...</td>\n",
       "      <td>Ask For Price</td>\n",
       "      <td>NaN</td>\n",
       "      <td>NaN</td>\n",
       "    </tr>\n",
       "    <tr>\n",
       "      <th>286</th>\n",
       "      <td>Commercial , DZire LDI, 2016, for sale</td>\n",
       "      <td>Commercial</td>\n",
       "      <td>...</td>\n",
       "      <td>Ask For Price</td>\n",
       "      <td>NaN</td>\n",
       "      <td>NaN</td>\n",
       "    </tr>\n",
       "    <tr>\n",
       "      <th>295</th>\n",
       "      <td>Maruti Suzuki Swift LDi</td>\n",
       "      <td>Maruti</td>\n",
       "      <td>2010</td>\n",
       "      <td>Ask For Price</td>\n",
       "      <td>52,000 kms</td>\n",
       "      <td>Diesel</td>\n",
       "    </tr>\n",
       "    <tr>\n",
       "      <th>304</th>\n",
       "      <td>Tata Indica eV2 LS</td>\n",
       "      <td>Tata</td>\n",
       "      <td>2017</td>\n",
       "      <td>Ask For Price</td>\n",
       "      <td>84,000 kms</td>\n",
       "      <td>Diesel</td>\n",
       "    </tr>\n",
       "    <tr>\n",
       "      <th>360</th>\n",
       "      <td>selling car Ta</td>\n",
       "      <td>selling</td>\n",
       "      <td>Zest</td>\n",
       "      <td>Ask For Price</td>\n",
       "      <td>NaN</td>\n",
       "      <td>NaN</td>\n",
       "    </tr>\n",
       "    <tr>\n",
       "      <th>368</th>\n",
       "      <td>Tata Zest 90</td>\n",
       "      <td>Tata</td>\n",
       "      <td>/-Rs</td>\n",
       "      <td>Ask For Price</td>\n",
       "      <td>NaN</td>\n",
       "      <td>NaN</td>\n",
       "    </tr>\n",
       "    <tr>\n",
       "      <th>388</th>\n",
       "      <td>Maruti Suzuki Alto 800 Lxi</td>\n",
       "      <td>Maruti</td>\n",
       "      <td>2018</td>\n",
       "      <td>Ask For Price</td>\n",
       "      <td>24,000 kms</td>\n",
       "      <td>Petrol</td>\n",
       "    </tr>\n",
       "    <tr>\n",
       "      <th>449</th>\n",
       "      <td>Maruti Suzuki Zen Estilo LXI Green CNG</td>\n",
       "      <td>Maruti</td>\n",
       "      <td>2011</td>\n",
       "      <td>Ask For Price</td>\n",
       "      <td>16,000 kms</td>\n",
       "      <td>Petrol</td>\n",
       "    </tr>\n",
       "    <tr>\n",
       "      <th>503</th>\n",
       "      <td>Hyundai Xcent Base 1.1 CRDi</td>\n",
       "      <td>Hyundai</td>\n",
       "      <td>2015</td>\n",
       "      <td>Ask For Price</td>\n",
       "      <td>1,80,000 kms</td>\n",
       "      <td>Diesel</td>\n",
       "    </tr>\n",
       "    <tr>\n",
       "      <th>511</th>\n",
       "      <td>Hyundai Xcent S 1.2</td>\n",
       "      <td>Hyundai</td>\n",
       "      <td>2015</td>\n",
       "      <td>Ask For Price</td>\n",
       "      <td>35,000 kms</td>\n",
       "      <td>Petrol</td>\n",
       "    </tr>\n",
       "    <tr>\n",
       "      <th>524</th>\n",
       "      <td>Toyota Innova 2.0 V</td>\n",
       "      <td>Toyota</td>\n",
       "      <td>2009</td>\n",
       "      <td>Ask For Price</td>\n",
       "      <td>15,574 kms</td>\n",
       "      <td>Diesel</td>\n",
       "    </tr>\n",
       "    <tr>\n",
       "      <th>560</th>\n",
       "      <td>Hyun</td>\n",
       "      <td>Hyundai</td>\n",
       "      <td>Eon</td>\n",
       "      <td>Ask For Price</td>\n",
       "      <td>NaN</td>\n",
       "      <td>NaN</td>\n",
       "    </tr>\n",
       "    <tr>\n",
       "      <th>567</th>\n",
       "      <td>Datsun Go Plus T O</td>\n",
       "      <td>Datsun</td>\n",
       "      <td>2016</td>\n",
       "      <td>Ask For Price</td>\n",
       "      <td>5 kms</td>\n",
       "      <td>Petrol</td>\n",
       "    </tr>\n",
       "    <tr>\n",
       "      <th>613</th>\n",
       "      <td>Mahindra KUV100 K8 D 6 STR</td>\n",
       "      <td>Mahindra</td>\n",
       "      <td>2018</td>\n",
       "      <td>Ask For Price</td>\n",
       "      <td>7,500 kms</td>\n",
       "      <td>Diesel</td>\n",
       "    </tr>\n",
       "    <tr>\n",
       "      <th>619</th>\n",
       "      <td>Maruti Suzuki Alto LX BSII</td>\n",
       "      <td>Maruti</td>\n",
       "      <td>2002</td>\n",
       "      <td>Ask For Price</td>\n",
       "      <td>56,000 kms</td>\n",
       "      <td>Petrol</td>\n",
       "    </tr>\n",
       "    <tr>\n",
       "      <th>634</th>\n",
       "      <td>Hyundai Elite i20 Sportz 1.2</td>\n",
       "      <td>Hyundai</td>\n",
       "      <td>2015</td>\n",
       "      <td>Ask For Price</td>\n",
       "      <td>49,500 kms</td>\n",
       "      <td>Petrol</td>\n",
       "    </tr>\n",
       "    <tr>\n",
       "      <th>645</th>\n",
       "      <td>Sale Hyundai xcent commerc</td>\n",
       "      <td>Sale</td>\n",
       "      <td>no.</td>\n",
       "      <td>Ask For Price</td>\n",
       "      <td>NaN</td>\n",
       "      <td>NaN</td>\n",
       "    </tr>\n",
       "    <tr>\n",
       "      <th>763</th>\n",
       "      <td>Tata Nexon</td>\n",
       "      <td>Tata</td>\n",
       "      <td>2019</td>\n",
       "      <td>Ask For Price</td>\n",
       "      <td>0 kms</td>\n",
       "      <td>Petrol</td>\n",
       "    </tr>\n",
       "    <tr>\n",
       "      <th>764</th>\n",
       "      <td>Tata</td>\n",
       "      <td>Tata</td>\n",
       "      <td>digo</td>\n",
       "      <td>Ask For Price</td>\n",
       "      <td>NaN</td>\n",
       "      <td>NaN</td>\n",
       "    </tr>\n",
       "    <tr>\n",
       "      <th>798</th>\n",
       "      <td>7 SEATER MAHINDRA BOLERO IN VERY GOOD</td>\n",
       "      <td>7</td>\n",
       "      <td>D...</td>\n",
       "      <td>Ask For Price</td>\n",
       "      <td>NaN</td>\n",
       "      <td>NaN</td>\n",
       "    </tr>\n",
       "    <tr>\n",
       "      <th>799</th>\n",
       "      <td>9 SEATER MAHINDRA BOL</td>\n",
       "      <td>9</td>\n",
       "      <td>, Ac</td>\n",
       "      <td>Ask For Price</td>\n",
       "      <td>NaN</td>\n",
       "      <td>NaN</td>\n",
       "    </tr>\n",
       "    <tr>\n",
       "      <th>807</th>\n",
       "      <td>Hyunda</td>\n",
       "      <td>Hyundai</td>\n",
       "      <td>cent</td>\n",
       "      <td>Ask For Price</td>\n",
       "      <td>NaN</td>\n",
       "      <td>NaN</td>\n",
       "    </tr>\n",
       "    <tr>\n",
       "      <th>808</th>\n",
       "      <td>Commercial Maruti Suzuki Alto Lxi 800</td>\n",
       "      <td>Commercial</td>\n",
       "      <td>...</td>\n",
       "      <td>Ask For Price</td>\n",
       "      <td>NaN</td>\n",
       "      <td>NaN</td>\n",
       "    </tr>\n",
       "    <tr>\n",
       "      <th>811</th>\n",
       "      <td>tata</td>\n",
       "      <td>tata</td>\n",
       "      <td>t xe</td>\n",
       "      <td>Ask For Price</td>\n",
       "      <td>NaN</td>\n",
       "      <td>NaN</td>\n",
       "    </tr>\n",
       "    <tr>\n",
       "      <th>822</th>\n",
       "      <td>Hyundai Venue</td>\n",
       "      <td>Hyundai</td>\n",
       "      <td>2019</td>\n",
       "      <td>Ask For Price</td>\n",
       "      <td>7,000 kms</td>\n",
       "      <td>Diesel</td>\n",
       "    </tr>\n",
       "    <tr>\n",
       "      <th>826</th>\n",
       "      <td>Renault Lodgy</td>\n",
       "      <td>Renault</td>\n",
       "      <td>2016</td>\n",
       "      <td>Ask For Price</td>\n",
       "      <td>20,000 kms</td>\n",
       "      <td>Diesel</td>\n",
       "    </tr>\n",
       "    <tr>\n",
       "      <th>848</th>\n",
       "      <td>Maruti Suzuki Alto 800 Lx</td>\n",
       "      <td>Maruti</td>\n",
       "      <td>2019</td>\n",
       "      <td>Ask For Price</td>\n",
       "      <td>1,500 kms</td>\n",
       "      <td>Petrol</td>\n",
       "    </tr>\n",
       "    <tr>\n",
       "      <th>854</th>\n",
       "      <td>Volkswagen Vento Highline Plus 1.5 Diesel</td>\n",
       "      <td>Volkswagen</td>\n",
       "      <td>2015</td>\n",
       "      <td>Ask For Price</td>\n",
       "      <td>38,900 kms</td>\n",
       "      <td>Diesel</td>\n",
       "    </tr>\n",
       "    <tr>\n",
       "      <th>859</th>\n",
       "      <td>Toyota Innova 2.0 G1 Petrol 8seater</td>\n",
       "      <td>Toyota</td>\n",
       "      <td>2019</td>\n",
       "      <td>Ask For Price</td>\n",
       "      <td>4,000 kms</td>\n",
       "      <td>Petrol</td>\n",
       "    </tr>\n",
       "    <tr>\n",
       "      <th>882</th>\n",
       "      <td>Maruti Suzuki Alto 800 Select Variant</td>\n",
       "      <td>Maruti</td>\n",
       "      <td>2015</td>\n",
       "      <td>Ask For Price</td>\n",
       "      <td>70,000 kms</td>\n",
       "      <td>Petrol</td>\n",
       "    </tr>\n",
       "  </tbody>\n",
       "</table>\n",
       "</div>"
      ],
      "text/plain": [
       "                                          name     company  year  \\\n",
       "2                   Maruti Suzuki Alto 800 Vxi      Maruti  2018   \n",
       "5             Ford EcoSport Titanium 1.5L TDCi        Ford  2015   \n",
       "69             I want to sell my car Tata Zest           I  2017   \n",
       "85             I want to sell my car Tata Zest           I  2017   \n",
       "138                 Maruti Suzuki Alto 800 Lxi      Maruti  2018   \n",
       "185     Commercial , DZire LDI, 2016, for sale  Commercial   ...   \n",
       "286     Commercial , DZire LDI, 2016, for sale  Commercial   ...   \n",
       "295                    Maruti Suzuki Swift LDi      Maruti  2010   \n",
       "304                         Tata Indica eV2 LS        Tata  2017   \n",
       "360                             selling car Ta     selling  Zest   \n",
       "368                               Tata Zest 90        Tata  /-Rs   \n",
       "388                 Maruti Suzuki Alto 800 Lxi      Maruti  2018   \n",
       "449     Maruti Suzuki Zen Estilo LXI Green CNG      Maruti  2011   \n",
       "503                Hyundai Xcent Base 1.1 CRDi     Hyundai  2015   \n",
       "511                        Hyundai Xcent S 1.2     Hyundai  2015   \n",
       "524                        Toyota Innova 2.0 V      Toyota  2009   \n",
       "560                                       Hyun     Hyundai   Eon   \n",
       "567                         Datsun Go Plus T O      Datsun  2016   \n",
       "613                 Mahindra KUV100 K8 D 6 STR    Mahindra  2018   \n",
       "619                 Maruti Suzuki Alto LX BSII      Maruti  2002   \n",
       "634               Hyundai Elite i20 Sportz 1.2     Hyundai  2015   \n",
       "645                 Sale Hyundai xcent commerc        Sale   no.   \n",
       "763                                 Tata Nexon        Tata  2019   \n",
       "764                                       Tata        Tata  digo   \n",
       "798      7 SEATER MAHINDRA BOLERO IN VERY GOOD           7  D...   \n",
       "799                      9 SEATER MAHINDRA BOL           9  , Ac   \n",
       "807                                     Hyunda     Hyundai  cent   \n",
       "808      Commercial Maruti Suzuki Alto Lxi 800  Commercial   ...   \n",
       "811                                       tata        tata  t xe   \n",
       "822                              Hyundai Venue     Hyundai  2019   \n",
       "826                              Renault Lodgy     Renault  2016   \n",
       "848                  Maruti Suzuki Alto 800 Lx      Maruti  2019   \n",
       "854  Volkswagen Vento Highline Plus 1.5 Diesel  Volkswagen  2015   \n",
       "859        Toyota Innova 2.0 G1 Petrol 8seater      Toyota  2019   \n",
       "882      Maruti Suzuki Alto 800 Select Variant      Maruti  2015   \n",
       "\n",
       "             Price    kms_driven fuel_type  \n",
       "2    Ask For Price    22,000 kms    Petrol  \n",
       "5    Ask For Price    59,000 kms    Diesel  \n",
       "69   Ask For Price           NaN       NaN  \n",
       "85   Ask For Price           NaN       NaN  \n",
       "138  Ask For Price    28,028 kms    Petrol  \n",
       "185  Ask For Price           NaN       NaN  \n",
       "286  Ask For Price           NaN       NaN  \n",
       "295  Ask For Price    52,000 kms    Diesel  \n",
       "304  Ask For Price    84,000 kms    Diesel  \n",
       "360  Ask For Price           NaN       NaN  \n",
       "368  Ask For Price           NaN       NaN  \n",
       "388  Ask For Price    24,000 kms    Petrol  \n",
       "449  Ask For Price    16,000 kms    Petrol  \n",
       "503  Ask For Price  1,80,000 kms    Diesel  \n",
       "511  Ask For Price    35,000 kms    Petrol  \n",
       "524  Ask For Price    15,574 kms    Diesel  \n",
       "560  Ask For Price           NaN       NaN  \n",
       "567  Ask For Price         5 kms    Petrol  \n",
       "613  Ask For Price     7,500 kms    Diesel  \n",
       "619  Ask For Price    56,000 kms    Petrol  \n",
       "634  Ask For Price    49,500 kms    Petrol  \n",
       "645  Ask For Price           NaN       NaN  \n",
       "763  Ask For Price         0 kms    Petrol  \n",
       "764  Ask For Price           NaN       NaN  \n",
       "798  Ask For Price           NaN       NaN  \n",
       "799  Ask For Price           NaN       NaN  \n",
       "807  Ask For Price           NaN       NaN  \n",
       "808  Ask For Price           NaN       NaN  \n",
       "811  Ask For Price           NaN       NaN  \n",
       "822  Ask For Price     7,000 kms    Diesel  \n",
       "826  Ask For Price    20,000 kms    Diesel  \n",
       "848  Ask For Price     1,500 kms    Petrol  \n",
       "854  Ask For Price    38,900 kms    Diesel  \n",
       "859  Ask For Price     4,000 kms    Petrol  \n",
       "882  Ask For Price    70,000 kms    Petrol  "
      ]
     },
     "execution_count": 10,
     "metadata": {},
     "output_type": "execute_result"
    }
   ],
   "source": [
    "df[df['Price'] == 'Ask For Price']\n",
    "# must remove these"
   ]
  },
  {
   "cell_type": "markdown",
   "metadata": {},
   "source": [
    "##### Price has string value and commas. need to convert to int"
   ]
  },
  {
   "cell_type": "code",
   "execution_count": null,
   "metadata": {},
   "outputs": [],
   "source": [
    "df['kms_driven'].unique()"
   ]
  },
  {
   "cell_type": "markdown",
   "metadata": {},
   "source": [
    "##### kms_driven has comma, 'kms' keyword in the column. nedd to convert it to int"
   ]
  },
  {
   "cell_type": "code",
   "execution_count": 12,
   "metadata": {},
   "outputs": [
    {
     "data": {
      "text/plain": [
       "array(['Petrol', 'Diesel', nan, 'LPG'], dtype=object)"
      ]
     },
     "execution_count": 12,
     "metadata": {},
     "output_type": "execute_result"
    }
   ],
   "source": [
    "df['fuel_type'].unique()"
   ]
  },
  {
   "cell_type": "code",
   "execution_count": 13,
   "metadata": {},
   "outputs": [
    {
     "data": {
      "text/html": [
       "<div>\n",
       "<style scoped>\n",
       "    .dataframe tbody tr th:only-of-type {\n",
       "        vertical-align: middle;\n",
       "    }\n",
       "\n",
       "    .dataframe tbody tr th {\n",
       "        vertical-align: top;\n",
       "    }\n",
       "\n",
       "    .dataframe thead th {\n",
       "        text-align: right;\n",
       "    }\n",
       "</style>\n",
       "<table border=\"1\" class=\"dataframe\">\n",
       "  <thead>\n",
       "    <tr style=\"text-align: right;\">\n",
       "      <th></th>\n",
       "      <th>name</th>\n",
       "      <th>company</th>\n",
       "      <th>year</th>\n",
       "      <th>Price</th>\n",
       "      <th>kms_driven</th>\n",
       "      <th>fuel_type</th>\n",
       "    </tr>\n",
       "  </thead>\n",
       "  <tbody>\n",
       "    <tr>\n",
       "      <th>69</th>\n",
       "      <td>I want to sell my car Tata Zest</td>\n",
       "      <td>I</td>\n",
       "      <td>2017</td>\n",
       "      <td>Ask For Price</td>\n",
       "      <td>NaN</td>\n",
       "      <td>NaN</td>\n",
       "    </tr>\n",
       "    <tr>\n",
       "      <th>85</th>\n",
       "      <td>I want to sell my car Tata Zest</td>\n",
       "      <td>I</td>\n",
       "      <td>2017</td>\n",
       "      <td>Ask For Price</td>\n",
       "      <td>NaN</td>\n",
       "      <td>NaN</td>\n",
       "    </tr>\n",
       "    <tr>\n",
       "      <th>132</th>\n",
       "      <td>Toyota Corolla</td>\n",
       "      <td>Toyota</td>\n",
       "      <td>2009</td>\n",
       "      <td>2,75,000</td>\n",
       "      <td>26,000 kms</td>\n",
       "      <td>NaN</td>\n",
       "    </tr>\n",
       "    <tr>\n",
       "      <th>185</th>\n",
       "      <td>Commercial , DZire LDI, 2016, for sale</td>\n",
       "      <td>Commercial</td>\n",
       "      <td>...</td>\n",
       "      <td>Ask For Price</td>\n",
       "      <td>NaN</td>\n",
       "      <td>NaN</td>\n",
       "    </tr>\n",
       "    <tr>\n",
       "      <th>195</th>\n",
       "      <td>Tata indigo ecs LX, 201</td>\n",
       "      <td>Tata</td>\n",
       "      <td>150k</td>\n",
       "      <td>1,50,000</td>\n",
       "      <td>NaN</td>\n",
       "      <td>NaN</td>\n",
       "    </tr>\n",
       "    <tr>\n",
       "      <th>206</th>\n",
       "      <td>MARUTI SUZUKI DESI</td>\n",
       "      <td>MARUTI</td>\n",
       "      <td>TOUR</td>\n",
       "      <td>4,00,000</td>\n",
       "      <td>NaN</td>\n",
       "      <td>NaN</td>\n",
       "    </tr>\n",
       "    <tr>\n",
       "      <th>286</th>\n",
       "      <td>Commercial , DZire LDI, 2016, for sale</td>\n",
       "      <td>Commercial</td>\n",
       "      <td>...</td>\n",
       "      <td>Ask For Price</td>\n",
       "      <td>NaN</td>\n",
       "      <td>NaN</td>\n",
       "    </tr>\n",
       "    <tr>\n",
       "      <th>294</th>\n",
       "      <td>Yama</td>\n",
       "      <td>Yamaha</td>\n",
       "      <td>r 15</td>\n",
       "      <td>55,000</td>\n",
       "      <td>NaN</td>\n",
       "      <td>NaN</td>\n",
       "    </tr>\n",
       "    <tr>\n",
       "      <th>360</th>\n",
       "      <td>selling car Ta</td>\n",
       "      <td>selling</td>\n",
       "      <td>Zest</td>\n",
       "      <td>Ask For Price</td>\n",
       "      <td>NaN</td>\n",
       "      <td>NaN</td>\n",
       "    </tr>\n",
       "    <tr>\n",
       "      <th>368</th>\n",
       "      <td>Tata Zest 90</td>\n",
       "      <td>Tata</td>\n",
       "      <td>/-Rs</td>\n",
       "      <td>Ask For Price</td>\n",
       "      <td>NaN</td>\n",
       "      <td>NaN</td>\n",
       "    </tr>\n",
       "    <tr>\n",
       "      <th>385</th>\n",
       "      <td>Maruti Suzuki Swift Dzire car</td>\n",
       "      <td>Maruti</td>\n",
       "      <td>sale</td>\n",
       "      <td>3,00,000</td>\n",
       "      <td>NaN</td>\n",
       "      <td>NaN</td>\n",
       "    </tr>\n",
       "    <tr>\n",
       "      <th>395</th>\n",
       "      <td>Maruti Suzuki Swift Dzire Tour (Gat</td>\n",
       "      <td>Maruti</td>\n",
       "      <td>ara)</td>\n",
       "      <td>3,00,000</td>\n",
       "      <td>NaN</td>\n",
       "      <td>NaN</td>\n",
       "    </tr>\n",
       "    <tr>\n",
       "      <th>401</th>\n",
       "      <td>URJE</td>\n",
       "      <td>URJENT</td>\n",
       "      <td>SELL</td>\n",
       "      <td>1,80,000</td>\n",
       "      <td>NaN</td>\n",
       "      <td>NaN</td>\n",
       "    </tr>\n",
       "    <tr>\n",
       "      <th>414</th>\n",
       "      <td>Swift Dzire Tour 27 Dec 2016 Regis</td>\n",
       "      <td>Swift</td>\n",
       "      <td>tion</td>\n",
       "      <td>3,70,000</td>\n",
       "      <td>NaN</td>\n",
       "      <td>NaN</td>\n",
       "    </tr>\n",
       "    <tr>\n",
       "      <th>432</th>\n",
       "      <td>Tata zest x</td>\n",
       "      <td>Tata</td>\n",
       "      <td>odel</td>\n",
       "      <td>3,20,000</td>\n",
       "      <td>NaN</td>\n",
       "      <td>NaN</td>\n",
       "    </tr>\n",
       "    <tr>\n",
       "      <th>433</th>\n",
       "      <td>Mahindra xyl</td>\n",
       "      <td>Mahindra</td>\n",
       "      <td>2 bs</td>\n",
       "      <td>3,50,000</td>\n",
       "      <td>NaN</td>\n",
       "      <td>NaN</td>\n",
       "    </tr>\n",
       "    <tr>\n",
       "      <th>441</th>\n",
       "      <td>Used Commercial Maruti Omn</td>\n",
       "      <td>Used</td>\n",
       "      <td>arry</td>\n",
       "      <td>1,50,000</td>\n",
       "      <td>NaN</td>\n",
       "      <td>NaN</td>\n",
       "    </tr>\n",
       "    <tr>\n",
       "      <th>560</th>\n",
       "      <td>Hyun</td>\n",
       "      <td>Hyundai</td>\n",
       "      <td>Eon</td>\n",
       "      <td>Ask For Price</td>\n",
       "      <td>NaN</td>\n",
       "      <td>NaN</td>\n",
       "    </tr>\n",
       "    <tr>\n",
       "      <th>593</th>\n",
       "      <td>Commercial Chevrolet Sail Hatchback ca</td>\n",
       "      <td>Commercial</td>\n",
       "      <td>o...</td>\n",
       "      <td>2,25,000</td>\n",
       "      <td>NaN</td>\n",
       "      <td>NaN</td>\n",
       "    </tr>\n",
       "    <tr>\n",
       "      <th>599</th>\n",
       "      <td>Commercial Car Ta</td>\n",
       "      <td>Commercial</td>\n",
       "      <td>Zest</td>\n",
       "      <td>3,71,500</td>\n",
       "      <td>NaN</td>\n",
       "      <td>NaN</td>\n",
       "    </tr>\n",
       "    <tr>\n",
       "      <th>608</th>\n",
       "      <td>tata Indica</td>\n",
       "      <td>tata</td>\n",
       "      <td>sale</td>\n",
       "      <td>1,30,000</td>\n",
       "      <td>NaN</td>\n",
       "      <td>NaN</td>\n",
       "    </tr>\n",
       "    <tr>\n",
       "      <th>614</th>\n",
       "      <td>Used bt new conditions ta</td>\n",
       "      <td>Used</td>\n",
       "      <td>Zest</td>\n",
       "      <td>2,55,000</td>\n",
       "      <td>NaN</td>\n",
       "      <td>NaN</td>\n",
       "    </tr>\n",
       "    <tr>\n",
       "      <th>616</th>\n",
       "      <td>Sale tata</td>\n",
       "      <td>Sale</td>\n",
       "      <td>ture</td>\n",
       "      <td>1,00,000</td>\n",
       "      <td>NaN</td>\n",
       "      <td>NaN</td>\n",
       "    </tr>\n",
       "    <tr>\n",
       "      <th>624</th>\n",
       "      <td>Tata indigo 2017 top model..</td>\n",
       "      <td>Tata</td>\n",
       "      <td>emi</td>\n",
       "      <td>1,70,000</td>\n",
       "      <td>NaN</td>\n",
       "      <td>NaN</td>\n",
       "    </tr>\n",
       "    <tr>\n",
       "      <th>635</th>\n",
       "      <td>Tata indigo</td>\n",
       "      <td>Tata</td>\n",
       "      <td>car</td>\n",
       "      <td>1,50,000</td>\n",
       "      <td>NaN</td>\n",
       "      <td>NaN</td>\n",
       "    </tr>\n",
       "    <tr>\n",
       "      <th>643</th>\n",
       "      <td>very good condition tata bolts are av</td>\n",
       "      <td>very</td>\n",
       "      <td>able</td>\n",
       "      <td>2,00,000</td>\n",
       "      <td>NaN</td>\n",
       "      <td>NaN</td>\n",
       "    </tr>\n",
       "    <tr>\n",
       "      <th>645</th>\n",
       "      <td>Sale Hyundai xcent commerc</td>\n",
       "      <td>Sale</td>\n",
       "      <td>no.</td>\n",
       "      <td>Ask For Price</td>\n",
       "      <td>NaN</td>\n",
       "      <td>NaN</td>\n",
       "    </tr>\n",
       "    <tr>\n",
       "      <th>723</th>\n",
       "      <td>I want to sell my commercial car due t</td>\n",
       "      <td>I</td>\n",
       "      <td>o...</td>\n",
       "      <td>4,75,000</td>\n",
       "      <td>NaN</td>\n",
       "      <td>NaN</td>\n",
       "    </tr>\n",
       "    <tr>\n",
       "      <th>725</th>\n",
       "      <td>i want sale my car.no emi....uber atta</td>\n",
       "      <td>i</td>\n",
       "      <td>d...</td>\n",
       "      <td>3,20,000</td>\n",
       "      <td>NaN</td>\n",
       "      <td>NaN</td>\n",
       "    </tr>\n",
       "    <tr>\n",
       "      <th>728</th>\n",
       "      <td>Tata ZEST 6 month old</td>\n",
       "      <td>Tata</td>\n",
       "      <td>car</td>\n",
       "      <td>3,70,000</td>\n",
       "      <td>NaN</td>\n",
       "      <td>NaN</td>\n",
       "    </tr>\n",
       "    <tr>\n",
       "      <th>758</th>\n",
       "      <td>MARUTI SUZUKI ERTIGA F</td>\n",
       "      <td>MARUTI</td>\n",
       "      <td>SALE</td>\n",
       "      <td>6,50,000</td>\n",
       "      <td>NaN</td>\n",
       "      <td>NaN</td>\n",
       "    </tr>\n",
       "    <tr>\n",
       "      <th>764</th>\n",
       "      <td>Tata</td>\n",
       "      <td>Tata</td>\n",
       "      <td>digo</td>\n",
       "      <td>Ask For Price</td>\n",
       "      <td>NaN</td>\n",
       "      <td>NaN</td>\n",
       "    </tr>\n",
       "    <tr>\n",
       "      <th>792</th>\n",
       "      <td>2012 Tata Sumo Gold f</td>\n",
       "      <td>2012</td>\n",
       "      <td>sell</td>\n",
       "      <td>2,50,000</td>\n",
       "      <td>NaN</td>\n",
       "      <td>NaN</td>\n",
       "    </tr>\n",
       "    <tr>\n",
       "      <th>795</th>\n",
       "      <td>Well mentained Tata Sumo</td>\n",
       "      <td>Well</td>\n",
       "      <td>d Ex</td>\n",
       "      <td>3,80,000</td>\n",
       "      <td>NaN</td>\n",
       "      <td>NaN</td>\n",
       "    </tr>\n",
       "    <tr>\n",
       "      <th>796</th>\n",
       "      <td>all paper updated tata indica v2 and u</td>\n",
       "      <td>all</td>\n",
       "      <td>n...</td>\n",
       "      <td>1,45,000</td>\n",
       "      <td>NaN</td>\n",
       "      <td>NaN</td>\n",
       "    </tr>\n",
       "    <tr>\n",
       "      <th>797</th>\n",
       "      <td>Maruti Ertiga showroom condition with</td>\n",
       "      <td>Maruti</td>\n",
       "      <td>e...</td>\n",
       "      <td>4,80,000</td>\n",
       "      <td>NaN</td>\n",
       "      <td>NaN</td>\n",
       "    </tr>\n",
       "    <tr>\n",
       "      <th>798</th>\n",
       "      <td>7 SEATER MAHINDRA BOLERO IN VERY GOOD</td>\n",
       "      <td>7</td>\n",
       "      <td>D...</td>\n",
       "      <td>Ask For Price</td>\n",
       "      <td>NaN</td>\n",
       "      <td>NaN</td>\n",
       "    </tr>\n",
       "    <tr>\n",
       "      <th>799</th>\n",
       "      <td>9 SEATER MAHINDRA BOL</td>\n",
       "      <td>9</td>\n",
       "      <td>, Ac</td>\n",
       "      <td>Ask For Price</td>\n",
       "      <td>NaN</td>\n",
       "      <td>NaN</td>\n",
       "    </tr>\n",
       "    <tr>\n",
       "      <th>800</th>\n",
       "      <td>scratch less Tata I</td>\n",
       "      <td>scratch</td>\n",
       "      <td>go .</td>\n",
       "      <td>1,40,000</td>\n",
       "      <td>NaN</td>\n",
       "      <td>NaN</td>\n",
       "    </tr>\n",
       "    <tr>\n",
       "      <th>801</th>\n",
       "      <td>Maruti Suzuki swift dzire for sale in</td>\n",
       "      <td>Maruti</td>\n",
       "      <td>d...</td>\n",
       "      <td>3,60,000</td>\n",
       "      <td>NaN</td>\n",
       "      <td>NaN</td>\n",
       "    </tr>\n",
       "    <tr>\n",
       "      <th>802</th>\n",
       "      <td>Commercial Chevrolet beat for sale in</td>\n",
       "      <td>Commercial</td>\n",
       "      <td>k...</td>\n",
       "      <td>1,80,000</td>\n",
       "      <td>NaN</td>\n",
       "      <td>NaN</td>\n",
       "    </tr>\n",
       "    <tr>\n",
       "      <th>803</th>\n",
       "      <td>urgent sell my Mahindra qu</td>\n",
       "      <td>urgent</td>\n",
       "      <td>o c4</td>\n",
       "      <td>3,50,000</td>\n",
       "      <td>NaN</td>\n",
       "      <td>NaN</td>\n",
       "    </tr>\n",
       "    <tr>\n",
       "      <th>805</th>\n",
       "      <td>sell my car Maruti Suzuki Swif</td>\n",
       "      <td>sell</td>\n",
       "      <td>zire</td>\n",
       "      <td>3,00,000</td>\n",
       "      <td>NaN</td>\n",
       "      <td>NaN</td>\n",
       "    </tr>\n",
       "    <tr>\n",
       "      <th>806</th>\n",
       "      <td>Maruti Suzuki Swift Dzire good car fo</td>\n",
       "      <td>Maruti</td>\n",
       "      <td>o...</td>\n",
       "      <td>3,10,000</td>\n",
       "      <td>NaN</td>\n",
       "      <td>NaN</td>\n",
       "    </tr>\n",
       "    <tr>\n",
       "      <th>807</th>\n",
       "      <td>Hyunda</td>\n",
       "      <td>Hyundai</td>\n",
       "      <td>cent</td>\n",
       "      <td>Ask For Price</td>\n",
       "      <td>NaN</td>\n",
       "      <td>NaN</td>\n",
       "    </tr>\n",
       "    <tr>\n",
       "      <th>808</th>\n",
       "      <td>Commercial Maruti Suzuki Alto Lxi 800</td>\n",
       "      <td>Commercial</td>\n",
       "      <td>...</td>\n",
       "      <td>Ask For Price</td>\n",
       "      <td>NaN</td>\n",
       "      <td>NaN</td>\n",
       "    </tr>\n",
       "    <tr>\n",
       "      <th>809</th>\n",
       "      <td>urgent sale Ta</td>\n",
       "      <td>urgent</td>\n",
       "      <td>Sumo</td>\n",
       "      <td>2,20,000</td>\n",
       "      <td>NaN</td>\n",
       "      <td>NaN</td>\n",
       "    </tr>\n",
       "    <tr>\n",
       "      <th>810</th>\n",
       "      <td>Maruti Suzuki Alto vxi t</td>\n",
       "      <td>Maruti</td>\n",
       "      <td>cab</td>\n",
       "      <td>95,000</td>\n",
       "      <td>NaN</td>\n",
       "      <td>NaN</td>\n",
       "    </tr>\n",
       "    <tr>\n",
       "      <th>811</th>\n",
       "      <td>tata</td>\n",
       "      <td>tata</td>\n",
       "      <td>t xe</td>\n",
       "      <td>Ask For Price</td>\n",
       "      <td>NaN</td>\n",
       "      <td>NaN</td>\n",
       "    </tr>\n",
       "    <tr>\n",
       "      <th>812</th>\n",
       "      <td>TATA INDI</td>\n",
       "      <td>TATA</td>\n",
       "      <td>EV2</td>\n",
       "      <td>1,10,000</td>\n",
       "      <td>NaN</td>\n",
       "      <td>NaN</td>\n",
       "    </tr>\n",
       "    <tr>\n",
       "      <th>845</th>\n",
       "      <td>Any type car avaiabel hare...comercica</td>\n",
       "      <td>Any</td>\n",
       "      <td>r...</td>\n",
       "      <td>1,70,000</td>\n",
       "      <td>NaN</td>\n",
       "      <td>NaN</td>\n",
       "    </tr>\n",
       "    <tr>\n",
       "      <th>884</th>\n",
       "      <td>tata zest 2017 f</td>\n",
       "      <td>tata</td>\n",
       "      <td>sale</td>\n",
       "      <td>4,50,000</td>\n",
       "      <td>NaN</td>\n",
       "      <td>NaN</td>\n",
       "    </tr>\n",
       "    <tr>\n",
       "      <th>887</th>\n",
       "      <td>Ta</td>\n",
       "      <td>Tara</td>\n",
       "      <td>zest</td>\n",
       "      <td>3,10,000</td>\n",
       "      <td>NaN</td>\n",
       "      <td>NaN</td>\n",
       "    </tr>\n",
       "    <tr>\n",
       "      <th>890</th>\n",
       "      <td>Honda Amaze 1.2 E i VTEC</td>\n",
       "      <td>Honda</td>\n",
       "      <td>2014</td>\n",
       "      <td>1,80,000</td>\n",
       "      <td>Petrol</td>\n",
       "      <td>NaN</td>\n",
       "    </tr>\n",
       "    <tr>\n",
       "      <th>891</th>\n",
       "      <td>Chevrolet Sail 1.2 LT ABS</td>\n",
       "      <td>Chevrolet</td>\n",
       "      <td>2014</td>\n",
       "      <td>1,60,000</td>\n",
       "      <td>Petrol</td>\n",
       "      <td>NaN</td>\n",
       "    </tr>\n",
       "  </tbody>\n",
       "</table>\n",
       "</div>"
      ],
      "text/plain": [
       "                                       name     company  year          Price  \\\n",
       "69          I want to sell my car Tata Zest           I  2017  Ask For Price   \n",
       "85          I want to sell my car Tata Zest           I  2017  Ask For Price   \n",
       "132                          Toyota Corolla      Toyota  2009       2,75,000   \n",
       "185  Commercial , DZire LDI, 2016, for sale  Commercial   ...  Ask For Price   \n",
       "195                 Tata indigo ecs LX, 201        Tata  150k       1,50,000   \n",
       "206                      MARUTI SUZUKI DESI      MARUTI  TOUR       4,00,000   \n",
       "286  Commercial , DZire LDI, 2016, for sale  Commercial   ...  Ask For Price   \n",
       "294                                    Yama      Yamaha  r 15         55,000   \n",
       "360                          selling car Ta     selling  Zest  Ask For Price   \n",
       "368                            Tata Zest 90        Tata  /-Rs  Ask For Price   \n",
       "385           Maruti Suzuki Swift Dzire car      Maruti  sale       3,00,000   \n",
       "395     Maruti Suzuki Swift Dzire Tour (Gat      Maruti  ara)       3,00,000   \n",
       "401                                    URJE      URJENT  SELL       1,80,000   \n",
       "414      Swift Dzire Tour 27 Dec 2016 Regis       Swift  tion       3,70,000   \n",
       "432                             Tata zest x        Tata  odel       3,20,000   \n",
       "433                            Mahindra xyl    Mahindra  2 bs       3,50,000   \n",
       "441              Used Commercial Maruti Omn        Used  arry       1,50,000   \n",
       "560                                    Hyun     Hyundai   Eon  Ask For Price   \n",
       "593  Commercial Chevrolet Sail Hatchback ca  Commercial  o...       2,25,000   \n",
       "599                       Commercial Car Ta  Commercial  Zest       3,71,500   \n",
       "608                             tata Indica        tata  sale       1,30,000   \n",
       "614               Used bt new conditions ta        Used  Zest       2,55,000   \n",
       "616                               Sale tata        Sale  ture       1,00,000   \n",
       "624            Tata indigo 2017 top model..        Tata   emi       1,70,000   \n",
       "635                             Tata indigo        Tata   car       1,50,000   \n",
       "643   very good condition tata bolts are av        very  able       2,00,000   \n",
       "645              Sale Hyundai xcent commerc        Sale   no.  Ask For Price   \n",
       "723  I want to sell my commercial car due t           I  o...       4,75,000   \n",
       "725  i want sale my car.no emi....uber atta           i  d...       3,20,000   \n",
       "728                   Tata ZEST 6 month old        Tata   car       3,70,000   \n",
       "758                  MARUTI SUZUKI ERTIGA F      MARUTI  SALE       6,50,000   \n",
       "764                                    Tata        Tata  digo  Ask For Price   \n",
       "792                   2012 Tata Sumo Gold f        2012  sell       2,50,000   \n",
       "795                Well mentained Tata Sumo        Well  d Ex       3,80,000   \n",
       "796  all paper updated tata indica v2 and u         all  n...       1,45,000   \n",
       "797   Maruti Ertiga showroom condition with      Maruti  e...       4,80,000   \n",
       "798   7 SEATER MAHINDRA BOLERO IN VERY GOOD           7  D...  Ask For Price   \n",
       "799                   9 SEATER MAHINDRA BOL           9  , Ac  Ask For Price   \n",
       "800                     scratch less Tata I     scratch  go .       1,40,000   \n",
       "801   Maruti Suzuki swift dzire for sale in      Maruti  d...       3,60,000   \n",
       "802   Commercial Chevrolet beat for sale in  Commercial  k...       1,80,000   \n",
       "803              urgent sell my Mahindra qu      urgent  o c4       3,50,000   \n",
       "805          sell my car Maruti Suzuki Swif        sell  zire       3,00,000   \n",
       "806   Maruti Suzuki Swift Dzire good car fo      Maruti  o...       3,10,000   \n",
       "807                                  Hyunda     Hyundai  cent  Ask For Price   \n",
       "808   Commercial Maruti Suzuki Alto Lxi 800  Commercial   ...  Ask For Price   \n",
       "809                          urgent sale Ta      urgent  Sumo       2,20,000   \n",
       "810                Maruti Suzuki Alto vxi t      Maruti   cab         95,000   \n",
       "811                                    tata        tata  t xe  Ask For Price   \n",
       "812                               TATA INDI        TATA   EV2       1,10,000   \n",
       "845  Any type car avaiabel hare...comercica         Any  r...       1,70,000   \n",
       "884                        tata zest 2017 f        tata  sale       4,50,000   \n",
       "887                                      Ta        Tara  zest       3,10,000   \n",
       "890                Honda Amaze 1.2 E i VTEC       Honda  2014       1,80,000   \n",
       "891               Chevrolet Sail 1.2 LT ABS   Chevrolet  2014       1,60,000   \n",
       "\n",
       "     kms_driven fuel_type  \n",
       "69          NaN       NaN  \n",
       "85          NaN       NaN  \n",
       "132  26,000 kms       NaN  \n",
       "185         NaN       NaN  \n",
       "195         NaN       NaN  \n",
       "206         NaN       NaN  \n",
       "286         NaN       NaN  \n",
       "294         NaN       NaN  \n",
       "360         NaN       NaN  \n",
       "368         NaN       NaN  \n",
       "385         NaN       NaN  \n",
       "395         NaN       NaN  \n",
       "401         NaN       NaN  \n",
       "414         NaN       NaN  \n",
       "432         NaN       NaN  \n",
       "433         NaN       NaN  \n",
       "441         NaN       NaN  \n",
       "560         NaN       NaN  \n",
       "593         NaN       NaN  \n",
       "599         NaN       NaN  \n",
       "608         NaN       NaN  \n",
       "614         NaN       NaN  \n",
       "616         NaN       NaN  \n",
       "624         NaN       NaN  \n",
       "635         NaN       NaN  \n",
       "643         NaN       NaN  \n",
       "645         NaN       NaN  \n",
       "723         NaN       NaN  \n",
       "725         NaN       NaN  \n",
       "728         NaN       NaN  \n",
       "758         NaN       NaN  \n",
       "764         NaN       NaN  \n",
       "792         NaN       NaN  \n",
       "795         NaN       NaN  \n",
       "796         NaN       NaN  \n",
       "797         NaN       NaN  \n",
       "798         NaN       NaN  \n",
       "799         NaN       NaN  \n",
       "800         NaN       NaN  \n",
       "801         NaN       NaN  \n",
       "802         NaN       NaN  \n",
       "803         NaN       NaN  \n",
       "805         NaN       NaN  \n",
       "806         NaN       NaN  \n",
       "807         NaN       NaN  \n",
       "808         NaN       NaN  \n",
       "809         NaN       NaN  \n",
       "810         NaN       NaN  \n",
       "811         NaN       NaN  \n",
       "812         NaN       NaN  \n",
       "845         NaN       NaN  \n",
       "884         NaN       NaN  \n",
       "887         NaN       NaN  \n",
       "890      Petrol       NaN  \n",
       "891      Petrol       NaN  "
      ]
     },
     "execution_count": 13,
     "metadata": {},
     "output_type": "execute_result"
    }
   ],
   "source": [
    "df[df['fuel_type'].isnull()]"
   ]
  },
  {
   "cell_type": "markdown",
   "metadata": {},
   "source": [
    "##### fule_type is fine. Although has null values"
   ]
  },
  {
   "cell_type": "code",
   "execution_count": 14,
   "metadata": {},
   "outputs": [
    {
     "data": {
      "text/plain": [
       "array(['2007', '2006', '2018', '2014', '2015', '2012', '2013', '2016',\n",
       "       '2010', '2017', '2008', '2011', '2019', '2009', '2005', '2000',\n",
       "       '...', '150k', 'TOUR', '2003', 'r 15', '2004', 'Zest', '/-Rs',\n",
       "       'sale', '1995', 'ara)', '2002', 'SELL', '2001', 'tion', 'odel',\n",
       "       '2 bs', 'arry', 'Eon', 'o...', 'ture', 'emi', 'car', 'able', 'no.',\n",
       "       'd...', 'SALE', 'digo', 'sell', 'd Ex', 'n...', 'e...', 'D...',\n",
       "       ', Ac', 'go .', 'k...', 'o c4', 'zire', 'cent', 'Sumo', 'cab',\n",
       "       't xe', 'EV2', 'r...', 'zest'], dtype=object)"
      ]
     },
     "execution_count": 14,
     "metadata": {},
     "output_type": "execute_result"
    }
   ],
   "source": [
    "df['year'].unique()"
   ]
  },
  {
   "cell_type": "markdown",
   "metadata": {},
   "source": [
    "##### year has a lot of nonsense data"
   ]
  },
  {
   "cell_type": "markdown",
   "metadata": {},
   "source": [
    "## cleaning"
   ]
  },
  {
   "cell_type": "code",
   "execution_count": 15,
   "metadata": {},
   "outputs": [],
   "source": [
    "backup_df = df.copy()"
   ]
  },
  {
   "cell_type": "code",
   "execution_count": null,
   "metadata": {},
   "outputs": [],
   "source": [
    "df = backup_df.copy() # use only for backup"
   ]
  },
  {
   "cell_type": "code",
   "execution_count": 16,
   "metadata": {},
   "outputs": [],
   "source": [
    "# clean the nonsense values\n",
    "df = df[df['year'].str.isnumeric()]\n",
    "# convert to int\n",
    "df['year'] = df['year'].astype(int)"
   ]
  },
  {
   "cell_type": "code",
   "execution_count": 17,
   "metadata": {},
   "outputs": [],
   "source": [
    "# clean the nonsense values\n",
    "df = df[df['Price'] != 'Ask For Price']\n",
    "# convert to int\n",
    "df['Price'] = df['Price'].str.replace(',','').astype(int)"
   ]
  },
  {
   "cell_type": "code",
   "execution_count": 18,
   "metadata": {},
   "outputs": [
    {
     "name": "stderr",
     "output_type": "stream",
     "text": [
      "/var/folders/hd/25__q2rn1yb9855zckz30xrm0000gn/T/ipykernel_7986/2451788671.py:3: SettingWithCopyWarning: \n",
      "A value is trying to be set on a copy of a slice from a DataFrame.\n",
      "Try using .loc[row_indexer,col_indexer] = value instead\n",
      "\n",
      "See the caveats in the documentation: https://pandas.pydata.org/pandas-docs/stable/user_guide/indexing.html#returning-a-view-versus-a-copy\n",
      "  temp_df['kms_driven'] = temp_df['kms_driven'].str[:-4]\n"
     ]
    }
   ],
   "source": [
    "# remove kms\n",
    "temp_df = df[df['kms_driven'].str.contains('kms')]\n",
    "temp_df['kms_driven'] = temp_df['kms_driven'].str[:-4]\n"
   ]
  },
  {
   "cell_type": "code",
   "execution_count": 19,
   "metadata": {},
   "outputs": [
    {
     "name": "stderr",
     "output_type": "stream",
     "text": [
      "/var/folders/hd/25__q2rn1yb9855zckz30xrm0000gn/T/ipykernel_7986/3234043303.py:1: SettingWithCopyWarning: \n",
      "A value is trying to be set on a copy of a slice from a DataFrame.\n",
      "Try using .loc[row_indexer,col_indexer] = value instead\n",
      "\n",
      "See the caveats in the documentation: https://pandas.pydata.org/pandas-docs/stable/user_guide/indexing.html#returning-a-view-versus-a-copy\n",
      "  temp_df['kms_driven']=temp_df['kms_driven'].str.replace(',','').astype(int)\n"
     ]
    }
   ],
   "source": [
    "temp_df['kms_driven']=temp_df['kms_driven'].str.replace(',','').astype(int)"
   ]
  },
  {
   "cell_type": "code",
   "execution_count": 20,
   "metadata": {},
   "outputs": [],
   "source": [
    "df = temp_df"
   ]
  },
  {
   "cell_type": "code",
   "execution_count": 21,
   "metadata": {},
   "outputs": [],
   "source": [
    "df = df[df['fuel_type'].isnull()==False]"
   ]
  },
  {
   "cell_type": "code",
   "execution_count": 22,
   "metadata": {},
   "outputs": [
    {
     "name": "stderr",
     "output_type": "stream",
     "text": [
      "/var/folders/hd/25__q2rn1yb9855zckz30xrm0000gn/T/ipykernel_7986/3129767846.py:1: SettingWithCopyWarning: \n",
      "A value is trying to be set on a copy of a slice from a DataFrame.\n",
      "Try using .loc[row_indexer,col_indexer] = value instead\n",
      "\n",
      "See the caveats in the documentation: https://pandas.pydata.org/pandas-docs/stable/user_guide/indexing.html#returning-a-view-versus-a-copy\n",
      "  df['name'] = df['name'].str.split(\" \").str.slice(0,3).str.join(\" \")\n"
     ]
    }
   ],
   "source": [
    "df['name'] = df['name'].str.split(\" \").str.slice(0,3).str.join(\" \")"
   ]
  },
  {
   "cell_type": "code",
   "execution_count": 23,
   "metadata": {},
   "outputs": [],
   "source": [
    "df = df.reset_index(drop=True)"
   ]
  },
  {
   "cell_type": "code",
   "execution_count": 24,
   "metadata": {},
   "outputs": [
    {
     "name": "stdout",
     "output_type": "stream",
     "text": [
      "<class 'pandas.core.frame.DataFrame'>\n",
      "RangeIndex: 816 entries, 0 to 815\n",
      "Data columns (total 6 columns):\n",
      " #   Column      Non-Null Count  Dtype \n",
      "---  ------      --------------  ----- \n",
      " 0   name        816 non-null    object\n",
      " 1   company     816 non-null    object\n",
      " 2   year        816 non-null    int64 \n",
      " 3   Price       816 non-null    int64 \n",
      " 4   kms_driven  816 non-null    int64 \n",
      " 5   fuel_type   816 non-null    object\n",
      "dtypes: int64(3), object(3)\n",
      "memory usage: 38.4+ KB\n"
     ]
    }
   ],
   "source": [
    "df.info()"
   ]
  },
  {
   "cell_type": "code",
   "execution_count": 25,
   "metadata": {},
   "outputs": [
    {
     "data": {
      "text/html": [
       "<div>\n",
       "<style scoped>\n",
       "    .dataframe tbody tr th:only-of-type {\n",
       "        vertical-align: middle;\n",
       "    }\n",
       "\n",
       "    .dataframe tbody tr th {\n",
       "        vertical-align: top;\n",
       "    }\n",
       "\n",
       "    .dataframe thead th {\n",
       "        text-align: right;\n",
       "    }\n",
       "</style>\n",
       "<table border=\"1\" class=\"dataframe\">\n",
       "  <thead>\n",
       "    <tr style=\"text-align: right;\">\n",
       "      <th></th>\n",
       "      <th>year</th>\n",
       "      <th>Price</th>\n",
       "      <th>kms_driven</th>\n",
       "    </tr>\n",
       "  </thead>\n",
       "  <tbody>\n",
       "    <tr>\n",
       "      <th>count</th>\n",
       "      <td>816.000000</td>\n",
       "      <td>8.160000e+02</td>\n",
       "      <td>816.000000</td>\n",
       "    </tr>\n",
       "    <tr>\n",
       "      <th>mean</th>\n",
       "      <td>2012.444853</td>\n",
       "      <td>4.117176e+05</td>\n",
       "      <td>46275.531863</td>\n",
       "    </tr>\n",
       "    <tr>\n",
       "      <th>std</th>\n",
       "      <td>4.002992</td>\n",
       "      <td>4.751844e+05</td>\n",
       "      <td>34297.428044</td>\n",
       "    </tr>\n",
       "    <tr>\n",
       "      <th>min</th>\n",
       "      <td>1995.000000</td>\n",
       "      <td>3.000000e+04</td>\n",
       "      <td>0.000000</td>\n",
       "    </tr>\n",
       "    <tr>\n",
       "      <th>25%</th>\n",
       "      <td>2010.000000</td>\n",
       "      <td>1.750000e+05</td>\n",
       "      <td>27000.000000</td>\n",
       "    </tr>\n",
       "    <tr>\n",
       "      <th>50%</th>\n",
       "      <td>2013.000000</td>\n",
       "      <td>2.999990e+05</td>\n",
       "      <td>41000.000000</td>\n",
       "    </tr>\n",
       "    <tr>\n",
       "      <th>75%</th>\n",
       "      <td>2015.000000</td>\n",
       "      <td>4.912500e+05</td>\n",
       "      <td>56818.500000</td>\n",
       "    </tr>\n",
       "    <tr>\n",
       "      <th>max</th>\n",
       "      <td>2019.000000</td>\n",
       "      <td>8.500003e+06</td>\n",
       "      <td>400000.000000</td>\n",
       "    </tr>\n",
       "  </tbody>\n",
       "</table>\n",
       "</div>"
      ],
      "text/plain": [
       "              year         Price     kms_driven\n",
       "count   816.000000  8.160000e+02     816.000000\n",
       "mean   2012.444853  4.117176e+05   46275.531863\n",
       "std       4.002992  4.751844e+05   34297.428044\n",
       "min    1995.000000  3.000000e+04       0.000000\n",
       "25%    2010.000000  1.750000e+05   27000.000000\n",
       "50%    2013.000000  2.999990e+05   41000.000000\n",
       "75%    2015.000000  4.912500e+05   56818.500000\n",
       "max    2019.000000  8.500003e+06  400000.000000"
      ]
     },
     "execution_count": 25,
     "metadata": {},
     "output_type": "execute_result"
    }
   ],
   "source": [
    "df.describe()"
   ]
  },
  {
   "cell_type": "markdown",
   "metadata": {},
   "source": [
    "##### it can be observed that price of 75% cars are less than 5 lakhs. \n",
    "#### But max value of price is 85 lakhs. \n",
    "## so there is a probablity that there are outliers in the data"
   ]
  },
  {
   "cell_type": "code",
   "execution_count": 26,
   "metadata": {},
   "outputs": [],
   "source": [
    "df = df[df['Price']<=2e6].reset_index(drop=True)"
   ]
  },
  {
   "cell_type": "markdown",
   "metadata": {},
   "source": [
    "we checked and found out that only 7 cars were above 20 lakhs. So we neglected them"
   ]
  },
  {
   "cell_type": "code",
   "execution_count": 27,
   "metadata": {},
   "outputs": [],
   "source": [
    "df.to_csv(\"cleaned_car_data.csv\")"
   ]
  },
  {
   "cell_type": "markdown",
   "metadata": {},
   "source": [
    "## Model Training"
   ]
  },
  {
   "cell_type": "code",
   "execution_count": 10,
   "metadata": {},
   "outputs": [],
   "source": [
    "df = pd.read_csv('cleaned_car_data.csv')"
   ]
  },
  {
   "cell_type": "code",
   "execution_count": 12,
   "metadata": {},
   "outputs": [
    {
     "data": {
      "text/html": [
       "<div>\n",
       "<style scoped>\n",
       "    .dataframe tbody tr th:only-of-type {\n",
       "        vertical-align: middle;\n",
       "    }\n",
       "\n",
       "    .dataframe tbody tr th {\n",
       "        vertical-align: top;\n",
       "    }\n",
       "\n",
       "    .dataframe thead th {\n",
       "        text-align: right;\n",
       "    }\n",
       "</style>\n",
       "<table border=\"1\" class=\"dataframe\">\n",
       "  <thead>\n",
       "    <tr style=\"text-align: right;\">\n",
       "      <th></th>\n",
       "      <th>name</th>\n",
       "      <th>company</th>\n",
       "      <th>year</th>\n",
       "      <th>Price</th>\n",
       "      <th>kms_driven</th>\n",
       "      <th>fuel_type</th>\n",
       "    </tr>\n",
       "  </thead>\n",
       "  <tbody>\n",
       "    <tr>\n",
       "      <th>0</th>\n",
       "      <td>Hyundai Santro Xing</td>\n",
       "      <td>Hyundai</td>\n",
       "      <td>2007</td>\n",
       "      <td>80000</td>\n",
       "      <td>45000</td>\n",
       "      <td>Petrol</td>\n",
       "    </tr>\n",
       "    <tr>\n",
       "      <th>1</th>\n",
       "      <td>Mahindra Jeep CL550</td>\n",
       "      <td>Mahindra</td>\n",
       "      <td>2006</td>\n",
       "      <td>425000</td>\n",
       "      <td>40</td>\n",
       "      <td>Diesel</td>\n",
       "    </tr>\n",
       "    <tr>\n",
       "      <th>2</th>\n",
       "      <td>Hyundai Grand i10</td>\n",
       "      <td>Hyundai</td>\n",
       "      <td>2014</td>\n",
       "      <td>325000</td>\n",
       "      <td>28000</td>\n",
       "      <td>Petrol</td>\n",
       "    </tr>\n",
       "  </tbody>\n",
       "</table>\n",
       "</div>"
      ],
      "text/plain": [
       "                  name   company  year   Price  kms_driven fuel_type\n",
       "0  Hyundai Santro Xing   Hyundai  2007   80000       45000    Petrol\n",
       "1  Mahindra Jeep CL550  Mahindra  2006  425000          40    Diesel\n",
       "2    Hyundai Grand i10   Hyundai  2014  325000       28000    Petrol"
      ]
     },
     "execution_count": 12,
     "metadata": {},
     "output_type": "execute_result"
    }
   ],
   "source": [
    "df.head(3)"
   ]
  },
  {
   "cell_type": "code",
   "execution_count": 52,
   "metadata": {},
   "outputs": [
    {
     "data": {
      "text/plain": [
       "<Axes: xlabel='kms_driven', ylabel='Price'>"
      ]
     },
     "execution_count": 52,
     "metadata": {},
     "output_type": "execute_result"
    },
    {
     "data": {
      "image/png": "[encoded data removed]",
      "text/plain": [
       "<Figure size 640x480 with 1 Axes>"
      ]
     },
     "metadata": {},
     "output_type": "display_data"
    }
   ],
   "source": [
    "sns.scatterplot(x = df['kms_driven'], y=df['Price'])"
   ]
  },
  {
   "cell_type": "code",
   "execution_count": 11,
   "metadata": {},
   "outputs": [],
   "source": [
    "df = df.drop(df.columns[0], axis=1)"
   ]
  },
  {
   "cell_type": "code",
   "execution_count": 13,
   "metadata": {},
   "outputs": [],
   "source": [
    "X = df.drop(columns=['Price'])\n",
    "y = df['Price']"
   ]
  },
  {
   "cell_type": "code",
   "execution_count": 20,
   "metadata": {},
   "outputs": [],
   "source": [
    "from sklearn.linear_model import LinearRegression\n",
    "from sklearn.tree import DecisionTreeRegressor\n",
    "from sklearn.ensemble import RandomForestRegressor,GradientBoostingRegressor,AdaBoostRegressor\n",
    "from sklearn.metrics import r2_score\n",
    "import xgboost"
   ]
  },
  {
   "cell_type": "code",
   "execution_count": 21,
   "metadata": {},
   "outputs": [],
   "source": [
    "num_features = X.select_dtypes(exclude=\"object\").columns\n",
    "cat_features = X.select_dtypes(include=\"object\").columns\n",
    "\n",
    "from sklearn.preprocessing import OneHotEncoder, StandardScaler\n",
    "from sklearn.compose import ColumnTransformer\n",
    "\n",
    "numeric_transformer = StandardScaler()\n",
    "oh_transformer = OneHotEncoder()\n",
    "preprocessor = ColumnTransformer(\n",
    "    [\n",
    "        (\"OneHotEncoder\", oh_transformer, cat_features),\n",
    "        (\"StandardScaler\", numeric_transformer, num_features),        \n",
    "    ]\n",
    ")"
   ]
  },
  {
   "cell_type": "code",
   "execution_count": 22,
   "metadata": {},
   "outputs": [],
   "source": [
    "X = preprocessor.fit_transform(X)"
   ]
  },
  {
   "cell_type": "code",
   "execution_count": 23,
   "metadata": {},
   "outputs": [
    {
     "name": "stdout",
     "output_type": "stream",
     "text": [
      "(809, 276)\n",
      "809\n"
     ]
    }
   ],
   "source": [
    "print(X.shape)\n",
    "print(len(y))"
   ]
  },
  {
   "cell_type": "code",
   "execution_count": 24,
   "metadata": {},
   "outputs": [],
   "source": [
    "from sklearn.model_selection import train_test_split\n",
    "X_train,X_test,y_train,y_test = train_test_split(X,y,test_size = 0.2,random_state=42)"
   ]
  },
  {
   "cell_type": "code",
   "execution_count": 25,
   "metadata": {},
   "outputs": [
    {
     "name": "stdout",
     "output_type": "stream",
     "text": [
      "(647, 276)\n",
      "(162, 276)\n",
      "647\n",
      "162\n"
     ]
    }
   ],
   "source": [
    "print(X_train.shape)\n",
    "print(X_test.shape)\n",
    "print(len(y_train))\n",
    "print(len(y_test))"
   ]
  },
  {
   "cell_type": "code",
   "execution_count": 26,
   "metadata": {},
   "outputs": [
    {
     "name": "stdout",
     "output_type": "stream",
     "text": [
      "Numeric features :      Index(['year', 'kms_driven'], dtype='object')\n",
      "Catagory features :      Index(['name', 'company', 'fuel_type'], dtype='object')\n"
     ]
    }
   ],
   "source": [
    "print(\"Numeric features :     \" , num_features)\n",
    "print(\"Catagory features :     \" , cat_features)"
   ]
  },
  {
   "cell_type": "markdown",
   "metadata": {},
   "source": [
    "## Trying the base models"
   ]
  },
  {
   "cell_type": "markdown",
   "metadata": {},
   "source": [
    "## Linear Regression"
   ]
  },
  {
   "cell_type": "code",
   "execution_count": 27,
   "metadata": {},
   "outputs": [],
   "source": [
    "score_state_list= []\n",
    "for i in range(100):\n",
    "    X_train,X_test,y_train,y_test = train_test_split(X,y,test_size = 0.2,random_state=i)\n",
    "    linear_base_model = LinearRegression()\n",
    "    linear_base_model.fit(X_train,y_train)\n",
    "    pred_test_lin = linear_base_model.predict(X_test)\n",
    "    score_state_list.append(r2_score(y_test,pred_test_lin))"
   ]
  },
  {
   "cell_type": "code",
   "execution_count": 28,
   "metadata": {},
   "outputs": [],
   "source": [
    "best_split_lin = score_state_list[np.argmax(score_state_list)]"
   ]
  },
  {
   "cell_type": "markdown",
   "metadata": {},
   "source": [
    "## Descision Tree"
   ]
  },
  {
   "cell_type": "code",
   "execution_count": 29,
   "metadata": {},
   "outputs": [],
   "source": [
    "score_state_list = []\n",
    "for i in range(100):\n",
    "    X_train,X_test,y_train,y_test = train_test_split(X,y,test_size = 0.2,random_state=i)\n",
    "    dtree_base_model = DecisionTreeRegressor(max_depth=6)\n",
    "    dtree_base_model.fit(X_train,y_train)\n",
    "    pred_test_dtree = dtree_base_model.predict(X_test)\n",
    "    score_state_list.append(r2_score(y_test,pred_test_dtree))\n"
   ]
  },
  {
   "cell_type": "code",
   "execution_count": 30,
   "metadata": {},
   "outputs": [],
   "source": [
    "best_split_dtree = score_state_list[np.argmax(score_state_list)]"
   ]
  },
  {
   "cell_type": "markdown",
   "metadata": {},
   "source": [
    "## Random Forest"
   ]
  },
  {
   "cell_type": "code",
   "execution_count": 31,
   "metadata": {},
   "outputs": [],
   "source": [
    "score_state_list = []\n",
    "for i in range(100):\n",
    "    X_train,X_test,y_train,y_test = train_test_split(X,y,test_size = 0.2,random_state=i)\n",
    "    rf_base_model = RandomForestRegressor(max_depth=6)\n",
    "    rf_base_model.fit(X_train,y_train)\n",
    "    pred_test_rf = rf_base_model.predict(X_test)\n",
    "    score_state_list.append(r2_score(y_test,pred_test_rf))"
   ]
  },
  {
   "cell_type": "code",
   "execution_count": 32,
   "metadata": {},
   "outputs": [],
   "source": [
    "best_split_rf = score_state_list[np.argmax(score_state_list)]"
   ]
  },
  {
   "cell_type": "markdown",
   "metadata": {},
   "source": [
    "## AdaBoost"
   ]
  },
  {
   "cell_type": "code",
   "execution_count": 33,
   "metadata": {},
   "outputs": [
    {
     "name": "stdout",
     "output_type": "stream",
     "text": [
      "0.4285081201659382\n",
      "0.003928739768545353\n"
     ]
    }
   ],
   "source": [
    "ada_base_model = AdaBoostRegressor()\n",
    "ada_base_model.fit(X_train,y_train)\n",
    "pred_train_ada = ada_base_model.predict(X_train)\n",
    "pred_test_ada = ada_base_model.predict(X_test)\n",
    "print(r2_score(y_train,pred_train_ada))\n",
    "print(r2_score(y_test,pred_test_ada))"
   ]
  },
  {
   "cell_type": "markdown",
   "metadata": {},
   "source": [
    "## Gradient Boost"
   ]
  },
  {
   "cell_type": "code",
   "execution_count": 34,
   "metadata": {},
   "outputs": [],
   "source": [
    "score_state_list = []\n",
    "for i in range(100):\n",
    "    X_train,X_test,y_train,y_test = train_test_split(X,y,test_size = 0.2,random_state=i)\n",
    "    grad_base_model = GradientBoostingRegressor(max_depth=6)\n",
    "    grad_base_model.fit(X_train,y_train)\n",
    "    pred_test_grad = grad_base_model.predict(X_test)\n",
    "    score_state_list.append(r2_score(y_test,pred_test_grad))"
   ]
  },
  {
   "cell_type": "code",
   "execution_count": 35,
   "metadata": {},
   "outputs": [],
   "source": [
    "best_split_grad = score_state_list[np.argmax(score_state_list)]"
   ]
  },
  {
   "cell_type": "markdown",
   "metadata": {},
   "source": [
    "## XGBoost\n"
   ]
  },
  {
   "cell_type": "code",
   "execution_count": 42,
   "metadata": {},
   "outputs": [],
   "source": [
    "score_state_list = []\n",
    "for i in range(100):\n",
    "    X_train,X_test,y_train,y_test = train_test_split(X,y,test_size = 0.2,random_state=i)\n",
    "    xbg_base_model = xgboost.XGBRegressor(max_depth = 3)\n",
    "    xbg_base_model.fit(X_train,y_train)\n",
    "    pred_test_xgb = xbg_base_model.predict(X_test)\n",
    "    score_state_list.append(r2_score(y_test,pred_test_grad))"
   ]
  },
  {
   "cell_type": "code",
   "execution_count": 43,
   "metadata": {},
   "outputs": [],
   "source": [
    "best_split_xgb = score_state_list[np.argmax(score_state_list)]"
   ]
  },
  {
   "cell_type": "code",
   "execution_count": 39,
   "metadata": {},
   "outputs": [
    {
     "name": "stdout",
     "output_type": "stream",
     "text": [
      "0.8747569729796941 0.713822727228238 0.7321090368288521 0.8606978521431792 0.627840211164362\n"
     ]
    }
   ],
   "source": [
    "print(best_split_lin,best_split_dtree,best_split_rf,best_split_grad,best_split_xgb)"
   ]
  },
  {
   "cell_type": "code",
   "execution_count": 46,
   "metadata": {},
   "outputs": [
    {
     "name": "stderr",
     "output_type": "stream",
     "text": [
      "/var/folders/hd/25__q2rn1yb9855zckz30xrm0000gn/T/ipykernel_76882/4010540137.py:6: FutureWarning: \n",
      "\n",
      "Passing `palette` without assigning `hue` is deprecated and will be removed in v0.14.0. Assign the `y` variable to `hue` and set `legend=False` for the same effect.\n",
      "\n",
      "  ax = sns.barplot(y=y_labels, x=x_values, palette=\"pastel\")\n"
     ]
    },
    {
     "data": {
      "image/png": "[encoded data removed]",
      "text/plain": [
       "<Figure size 1000x600 with 1 Axes>"
      ]
     },
     "metadata": {},
     "output_type": "display_data"
    }
   ],
   "source": [
    "y_labels = [\"Linear Regression\", \"Decision Tree\", \"Random Forest\", \"Gradient Boosting\", \"XGBoost\"]\n",
    "x_values = [best_split_lin, best_split_dtree, best_split_rf, best_split_grad, best_split_xgb]\n",
    "\n",
    "# Create the bar plot\n",
    "plt.figure(figsize=(10, 6))\n",
    "ax = sns.barplot(y=y_labels, x=x_values, palette=\"pastel\")\n",
    "\n",
    "# Annotate the bars with their respective values\n",
    "for i, value in enumerate(x_values):\n",
    "    ax.text(value, i, f'{value:.2f}', va='center')\n",
    "\n",
    "plt.xlabel('Score')\n",
    "plt.ylabel('Models')\n",
    "plt.title('Model Comparison')\n",
    "plt.show()"
   ]
  },
  {
   "cell_type": "markdown",
   "metadata": {},
   "source": [
    "### Linear and Gradient Boost are performing the best"
   ]
  },
  {
   "cell_type": "markdown",
   "metadata": {},
   "source": [
    "#### Applying Ridge and Lasso"
   ]
  },
  {
   "cell_type": "code",
   "execution_count": 57,
   "metadata": {},
   "outputs": [],
   "source": [
    "from sklearn.model_selection import GridSearchCV\n",
    "from sklearn.linear_model import Ridge\n",
    "from sklearn.metrics import mean_squared_error\n"
   ]
  },
  {
   "cell_type": "code",
   "execution_count": 55,
   "metadata": {},
   "outputs": [],
   "source": [
    "X_train,X_test,y_train,y_test = train_test_split(X,y,test_size = 0.2,random_state=i)"
   ]
  },
  {
   "cell_type": "code",
   "execution_count": 56,
   "metadata": {},
   "outputs": [
    {
     "data": {
      "text/plain": [
       "np.float64(-33583080470.108704)"
      ]
     },
     "execution_count": 56,
     "metadata": {},
     "output_type": "execute_result"
    }
   ],
   "source": [
    "ridge_model = Ridge()\n",
    "\n",
    "# Create a parameter grid for tuning\n",
    "param_grid = {\n",
    "    'alpha': np.logspace(-2, 2, 10)  # Range of alpha values from 0.0001 to 10000\n",
    "}\n",
    "\n",
    "# Set up GridSearchCV\n",
    "grid_search = GridSearchCV(estimator=ridge_model, param_grid=param_grid, cv=5, scoring='neg_mean_squared_error')\n",
    "\n",
    "# Fit the model\n",
    "grid_search.fit(X_train, y_train)\n",
    "best_model = grid_search.best_estimator_\n",
    "y_pred = best_model.predict(X_test)\n",
    "mse = mean_squared_error(y_test, y_pred)"
   ]
  },
  {
   "cell_type": "code",
   "execution_count": null,
   "metadata": {},
   "outputs": [],
   "source": []
  }
 ],
 "metadata": {
  "kernelspec": {
   "display_name": ".venv",
   "language": "python",
   "name": "python3"
  },
  "language_info": {
   "codemirror_mode": {
    "name": "ipython",
    "version": 3
   },
   "file_extension": ".py",
   "mimetype": "text/x-python",
   "name": "python",
   "nbconvert_exporter": "python",
   "pygments_lexer": "ipython3",
   "version": "3.12.5"
  }
 },
 "nbformat": 4,
 "nbformat_minor": 2
}
